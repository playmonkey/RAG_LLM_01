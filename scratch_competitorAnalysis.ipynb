{
 "cells": [
  {
   "cell_type": "markdown",
   "id": "61edc99f",
   "metadata": {},
   "source": [
    "# Competitor Analysis Agentic Notebook (Google GenAI + SerpAPI)\n",
    "\n",
    "This notebook searches the web for company facts and uses Google GenAI to extract and compare key business information."
   ]
  },
  {
   "cell_type": "code",
   "execution_count": null,
   "id": "cf92df48",
   "metadata": {},
   "outputs": [],
   "source": [
    "# 1. Install Required Libraries\n",
    "!pip install google-generativeai google-search-results pandas"
   ]
  },
  {
   "cell_type": "code",
   "execution_count": null,
   "id": "066aa182",
   "metadata": {},
   "outputs": [],
   "source": [
    "# 2. Set Up API Keys\n",
    "import os\n",
    "\n",
    "os.environ[\"GOOGLE_API_KEY\"] = \"YOUR_GOOGLE_API_KEY\"  # Google GenAI\n",
    "os.environ[\"SERPAPI_API_KEY\"] = \"YOUR_SERPAPI_API_KEY\"  # SerpAPI"
   ]
  },
  {
   "cell_type": "code",
   "execution_count": null,
   "id": "020a2a59",
   "metadata": {},
   "outputs": [],
   "source": [
    "# 3. Import Libraries\n",
    "from google import genai\n",
    "from google.genai import types\n",
    "from serpapi import GoogleSearch\n",
    "import pandas as pd\n",
    "import time"
   ]
  },
  {
   "cell_type": "code",
   "execution_count": null,
   "id": "a888c5fe",
   "metadata": {},
   "outputs": [],
   "source": [
    "# 4. Authenticate Google GenAI\n",
    "genai.configure(api_key=os.environ[\"GOOGLE_API_KEY\"])\n",
    "model = genai.GenerativeModel(\"gemini-pro\")"
   ]
  },
  {
   "cell_type": "code",
   "execution_count": null,
   "id": "5e6c4590",
   "metadata": {},
   "outputs": [],
   "source": [
    "# 5. Define Companies and Info Types\n",
    "target_company = \"OpenAI\"\n",
    "competitors = [\"Anthropic\", \"Cohere\", \"Google DeepMind\"]\n",
    "info_types = [\n",
    "    \"headquarters location\",\n",
    "    \"number of employees\",\n",
    "    \"financials (revenue, funding, valuation)\",\n",
    "    \"marketing strategy\"\n",
    "]"
   ]
  },
  {
   "cell_type": "code",
   "execution_count": null,
   "id": "02f3dab8",
   "metadata": {},
   "outputs": [],
   "source": [
    "# 6. Define Helper Functions\n",
    "def serpapi_search(query):\n",
    "    params = {\n",
    "        \"engine\": \"google\",\n",
    "        \"q\": query,\n",
    "        \"api_key\": os.environ[\"SERPAPI_API_KEY\"],\n",
    "        \"num\": 5\n",
    "    }\n",
    "    search = GoogleSearch(params)\n",
    "    results = search.get_dict()\n",
    "    snippets = []\n",
    "    if \"organic_results\" in results:\n",
    "        for r in results[\"organic_results\"]:\n",
    "            if \"snippet\" in r:\n",
    "                snippets.append(r[\"snippet\"])\n",
    "    return \"\\n\".join(snippets)\n",
    "\n",
    "def extract_info_with_genai(company, info_type, context):\n",
    "    prompt = (\n",
    "        f\"You are a business analyst. Extract the {info_type} for {company} \"\n",
    "        f\"from the following web search results. If not found, say 'Not found.'\\n\\n\"\n",
    "        f\"Web search results:\\n{context}\"\n",
    "    )\n",
    "    response = model.generate_content(prompt)\n",
    "    return response.text.strip()"
   ]
  },
  {
   "cell_type": "code",
   "execution_count": null,
   "id": "dadc3d45",
   "metadata": {},
   "outputs": [],
   "source": [
    "# 7. Gather Data\n",
    "report = {}\n",
    "for company in [target_company] + competitors:\n",
    "    report[company] = {}\n",
    "    for info in info_types:\n",
    "        print(f\"Searching for {info} of {company}...\")\n",
    "        context = serpapi_search(f\"{company} {info}\")\n",
    "        time.sleep(2)  # To avoid hitting rate limits\n",
    "        info_extracted = extract_info_with_genai(company, info, context)\n",
    "        report[company][info] = info_extracted"
   ]
  },
  {
   "cell_type": "code",
   "execution_count": null,
   "id": "f186e91a",
   "metadata": {},
   "outputs": [],
   "source": [
    "# 8. Comparative Report Generation\n",
    "import json\n",
    "\n",
    "comparison_prompt = (\n",
    "    \"Given the following company data, write a detailed competitor analysis comparing the target company \"\n",
    "    \"to its competitors. Highlight strengths, weaknesses, and differences in location, headcount, financials, \"\n",
    "    \"and marketing strategy. Present the results in a structured, readable format.\\n\\n\"\n",
    "    f\"{json.dumps(report, indent=2)}\"\n",
    ")\n",
    "\n",
    "analysis = model.generate_content(comparison_prompt)\n",
    "print(analysis.text)"
   ]
  },
  {
   "cell_type": "code",
   "execution_count": null,
   "id": "7cf83bc1",
   "metadata": {},
   "outputs": [],
   "source": [
    "# 9. (Optional) Display as Table\n",
    "df = pd.DataFrame(report).T\n",
    "display(df)"
   ]
  }
 ],
 "metadata": {
  "kernelspec": {
   "display_name": "Python 3",
   "language": "python",
   "name": "python3"
  },
  "language_info": {
   "name": "python",
   "version": ""
  }
 },
 "nbformat": 4,
 "nbformat_minor": 5
}
